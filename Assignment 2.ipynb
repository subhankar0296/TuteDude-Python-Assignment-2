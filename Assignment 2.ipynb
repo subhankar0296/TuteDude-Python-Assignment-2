{
 "cells": [
  {
   "cell_type": "code",
   "execution_count": null,
   "id": "c4b3c9aa",
   "metadata": {},
   "outputs": [
    {
     "name": "stdout",
     "output_type": "stream",
     "text": [
      "11 is an Odd Number\n"
     ]
    }
   ],
   "source": [
    "# Module 3: Control Structures in Python\n",
    "\n",
    "# Task 1: Check if a Number is Even or Odd\n",
    "# Problem Statement:  Write a Python program that:\n",
    "\n",
    "# 1. \tTakes an integer input from the user.\n",
    "\n",
    "user_input = int(input('Enter a Number:'))\n",
    "\n",
    "# 2. \tChecks whether the number is even or odd using an if-else statement.\n",
    "\n",
    "if user_input % 2 == 0:\n",
    "    print(f'{user_input} is an Even Number')\n",
    "else:\n",
    "    print(f'{user_input} is an Odd Number')\n",
    "\n",
    "\n",
    "# output 11 is an Odd Number"
   ]
  },
  {
   "cell_type": "code",
   "execution_count": 6,
   "id": "68febe7b",
   "metadata": {},
   "outputs": [
    {
     "name": "stdout",
     "output_type": "stream",
     "text": [
      "1\n",
      "2\n",
      "3\n",
      "4\n",
      "5\n",
      "6\n",
      "7\n",
      "8\n",
      "9\n",
      "10\n",
      "11\n",
      "12\n",
      "13\n",
      "14\n",
      "15\n",
      "16\n",
      "17\n",
      "18\n",
      "19\n",
      "20\n",
      "21\n",
      "22\n",
      "23\n",
      "24\n",
      "25\n",
      "26\n",
      "27\n",
      "28\n",
      "29\n",
      "30\n",
      "31\n",
      "32\n",
      "33\n",
      "34\n",
      "35\n",
      "36\n",
      "37\n",
      "38\n",
      "39\n",
      "40\n",
      "41\n",
      "42\n",
      "43\n",
      "44\n",
      "45\n",
      "46\n",
      "47\n",
      "48\n",
      "49\n",
      "50\n",
      "The sum of 1 to 50 is : 1275\n"
     ]
    }
   ],
   "source": [
    "# Task 2: Sum of Integers from 1 to 50 Using a Loop\n",
    "\n",
    "# Problem Statement: Write a Python program that:\n",
    "# 1.   Uses a for loop to iterate over numbers from 1 to 50.\n",
    "\n",
    "for i in range(1,51):\n",
    "    print(i)\n",
    "\n",
    "\n",
    "# 2.   Calculates the sum of all integers in this range.\n",
    "\n",
    "sum=0\n",
    "for i in range (1,51):\n",
    "    sum+=i\n",
    "print(f'The sum of 1 to 50 is : {sum}')  # sum of this range is 1275\n",
    "\n"
   ]
  },
  {
   "cell_type": "code",
   "execution_count": null,
   "id": "cfae7596",
   "metadata": {},
   "outputs": [],
   "source": []
  }
 ],
 "metadata": {
  "kernelspec": {
   "display_name": "Python 3",
   "language": "python",
   "name": "python3"
  },
  "language_info": {
   "codemirror_mode": {
    "name": "ipython",
    "version": 3
   },
   "file_extension": ".py",
   "mimetype": "text/x-python",
   "name": "python",
   "nbconvert_exporter": "python",
   "pygments_lexer": "ipython3",
   "version": "3.13.2"
  }
 },
 "nbformat": 4,
 "nbformat_minor": 5
}
